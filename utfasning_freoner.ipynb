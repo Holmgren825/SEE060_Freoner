{
 "cells": [
  {
   "cell_type": "markdown",
   "id": "8bddb7ba-a802-46e2-91b5-1048cff31696",
   "metadata": {},
   "source": [
    "# Inlämningsuppgift 3: Utfasning av freoner\n",
    "# Bakgrund\n",
    "Den här uppgiften handlar om Montrealprotokollet ifrån 1987 som utgjorde starten för en internationell överenskommelse om att fasa ut ämnena som förstör ozonlagret.\n",
    "Ni kommer undersöka hur koncentrationen av den då mest använda freonen, CFC-12, påverkades av protokollet och senare revideringar (London 1990, Köpenhamn 1992) samt vad som hade hänt vid en försening av 15 år.\n",
    "\n",
    "<div class=\"alert alert-block alert-warning\">\n",
    "<b>Varning: </b>I fallet att du följt länken på Canvas körs den här notebooken på något som heter <a href=https://mybinder.org/>MyBinder</a>, vilket innebär att JupyterLab körs på en server någonstans i molnet. Det är väldigt smidigt för att komma igång med Python och Jupyter, men <b>ingenting sparas</b> och programmet stängs av efter en stunds inaktivitet.\n",
    "Alltså måste du ladda ner filerna till din egen dator för att spara dem (Högerklicka på filen du vill spara i filhanteraren -> Download).\n",
    "Alternativt kan du installera Python och JupyterLab på din egen dator.\n",
    "</div>\n"
   ]
  },
  {
   "cell_type": "markdown",
   "id": "982b6881-fe14-415a-9846-3df32ab5f88c",
   "metadata": {},
   "source": [
    "## Teori\n",
    "Hur massan av en förorening i atmosfären ($m$) förändras som funktion av tid ($t$) kan skrivas som:\n",
    "$$\n",
    "\\frac{dm}{dt} = E - \\frac{m}{t},\n",
    "\\tag{1}\n",
    "$$\n",
    "där $E$ är storleken på utsläppet och $\\tau$ är uppehållstid.\n",
    "\n",
    "För uppgift 2 och 3 behöver ni en lösning på differentialekvationen ovan (1).\n",
    "Ni kan antingen ta fram en analytisk lösning med papper och penna eller helt enkelt simulera ekvationen.\n",
    "Det vill säga, använda ekvationen för att beräkna förändringen i $m$ ifrån år till år helt numeriskt.\n",
    "En sista variant är att använda t.ex. pythonfunktionen `odeint` från paketet `scipy.integrate`.\n",
    "\n",
    "### Tips för användning av analytisk lösning\n",
    "Observera här att emissionerna ändras efter ett visst antal år.\n",
    "När emissionerna ändrats måste även tidsräkningen börja om."
   ]
  },
  {
   "cell_type": "markdown",
   "id": "5334ef6f-b174-490b-8dbb-0bc1fc7a03f1",
   "metadata": {},
   "source": [
    "# Uppgifter\n",
    "Vi startar vår analys 1989 då Montrealprotokollet började gälla.\n",
    "Vid slut av 1989 (dvs 31/12) så var den totala massan av CFC-12 m = 1 · 1010 kg och utsläppstakten var E = 4 · 108 kg/år.\n",
    "CFC-12 har en uppehållstid av τ = 100 år (främsta sänka är fotolys i stratosfären).\n",
    "\n",
    "## Uppgift 1\n",
    "Det ursprungliga Montrealprotokollet stipulerade en 50%-ig sänkning av freonutsläpp till 1999 och därefter konstanta utsläpp.\n",
    "Studera fallet där utsläppen i all framtid är 50% av de 1989.\n",
    "\n",
    "1. Visa att CFC-12 skulle uppnå jämvikt vid m = 2 · 1010 kg.\n",
    "2. Detta är högre än massan 1989. Förklara hur detta kan ske?\n",
    "\n",
    "<div class=\"alert alert-block alert-info\">\n",
    "<b>Tips: </b>Jämvikt betyder att m är konstant med tid. Denna del går att lösa direkt ifrån ekvation 1.\n",
    "</div>"
   ]
  },
  {
   "cell_type": "markdown",
   "id": "1744b2df-5b90-41ce-aec1-1afeff743fa7",
   "metadata": {},
   "source": [
    "Här kan du skriva ner dina svar i markdown (dubbelklicka på cellen)"
   ]
  },
  {
   "cell_type": "code",
   "execution_count": null,
   "id": "ee3b343e-882c-4a62-8d8d-786c5072c5e6",
   "metadata": {},
   "outputs": [],
   "source": [
    "# Skriv din kod här, lägg till fler celler vid behov"
   ]
  },
  {
   "cell_type": "markdown",
   "id": "05403edc-79d8-4f38-b1d8-1824287cbe61",
   "metadata": {},
   "source": [
    "## Uppgift 2\n",
    "Revideringen av Montrealprotokollet förbjöd tillverkning av freon ifrån start av 1996.\n",
    "Antag att utsläppen var konstanta på 1989-s nivå fram till 31/12 1995, för att sedan falla till noll 1/1 1996.\n",
    "- Skapa först en plot som visar på hur massan av CFC-12 varierar med tid.\n",
    "Glöm inte att namnge axlarna, detta inkluderar enhet."
   ]
  },
  {
   "cell_type": "code",
   "execution_count": null,
   "id": "b7d65ab5-312a-4c75-9a75-67ba122bc7ea",
   "metadata": {},
   "outputs": [],
   "source": [
    "# Skriv din kod här, lägg till fler celler vid behov"
   ]
  },
  {
   "cell_type": "markdown",
   "id": "73eede32-71fb-4581-8fbd-0d8e7e9ab7fb",
   "metadata": {},
   "source": [
    "Svara sen på följande frågor genom att avläsa plotten:\n",
    "- Vad är den maximala massan av CFC-12 i atmosfären? Svara i Mt.\n",
    "- Antag att ozonhålet försvinner när CFC-12 passerar m = 7 · 109 kg.\n",
    "När sker detta?\n",
    "- CFC-12 är även en växthusgas och vi vill få bort gasen helt.\n",
    "Antag att mängden av gasen kan anses som acceptabel vid m = 1 · 109 kg.\n",
    "När sker detta?\n",
    "Ifall att du fick fram en analytisk lösning på ekvation 1, tänk på tipsen ovan!"
   ]
  },
  {
   "cell_type": "markdown",
   "id": "cdc1b09b-5ae0-46e3-b355-b48b09c9106a",
   "metadata": {},
   "source": [
    "Här kan du skriva ner dina svar i markdown (dubbelklicka på cellen)"
   ]
  },
  {
   "cell_type": "code",
   "execution_count": null,
   "id": "a03643b4-6b6f-4178-b6b5-3bc45464e619",
   "metadata": {},
   "outputs": [],
   "source": [
    "# Skriv din kod här, lägg till fler celler vid behov"
   ]
  },
  {
   "cell_type": "markdown",
   "id": "e125210b-c509-4170-aef4-2892baa26e06",
   "metadata": {},
   "source": [
    "## Uppgift 3\n",
    "Vad hade hänt om beslutet hade tagits 15 år senare?\n",
    "Det vill säga, anta ett scenario där 1989-års utsläpp fortskred fram till 31/12 2010, följt av ett totalstopp.\n",
    "Upprepa analysen i fråga 2, samt jämför:\n",
    "- Vilken effekt hade en försening av Montrealprotokollet på 15 år fått?"
   ]
  },
  {
   "cell_type": "markdown",
   "id": "841856dd-7a63-4d68-9a86-b5549ddd0486",
   "metadata": {},
   "source": [
    "Här kan du skriva ner dina svar i markdown (dubbelklicka på cellen)"
   ]
  },
  {
   "cell_type": "code",
   "execution_count": null,
   "id": "5125b2f7-2ec8-40c9-b5c7-9d0338d3ea15",
   "metadata": {},
   "outputs": [],
   "source": [
    "# Skriv din kod här, lägg till fler celler vid behov"
   ]
  }
 ],
 "metadata": {
  "kernelspec": {
   "display_name": "Python 3 (ipykernel)",
   "language": "python",
   "name": "python3"
  },
  "language_info": {
   "codemirror_mode": {
    "name": "ipython",
    "version": 3
   },
   "file_extension": ".py",
   "mimetype": "text/x-python",
   "name": "python",
   "nbconvert_exporter": "python",
   "pygments_lexer": "ipython3",
   "version": "3.10.13"
  }
 },
 "nbformat": 4,
 "nbformat_minor": 5
}
